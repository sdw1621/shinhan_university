{
  "cells": [
    {
      "cell_type": "markdown",
      "metadata": {
        "id": "view-in-github",
        "colab_type": "text"
      },
      "source": [
        "<a href=\"https://colab.research.google.com/github/sdw1621/shinhan_university/blob/main/220410_%E1%84%8B%E1%85%B5%E1%86%AB%E1%84%89%E1%85%B3%E1%84%90%E1%85%A1%E1%84%80%E1%85%B3%E1%84%85%E1%85%A2%E1%86%B7_%EB%A7%A5%EA%B2%BD%EB%A1%9C%EC%84%A4%EC%A0%95_%ED%8E%98%EC%9D%B4%EC%8A%A4%EB%B6%81%EB%A1%9C%EA%B7%B8%EC%9D%B8%EC%B6%94%EA%B0%80.ipynb\" target=\"_parent\"><img src=\"https://colab.research.google.com/assets/colab-badge.svg\" alt=\"Open In Colab\"/></a>"
      ]
    },
    {
      "cell_type": "code",
      "execution_count": null,
      "id": "7a155e91",
      "metadata": {
        "id": "7a155e91",
        "outputId": "537cb72f-135f-4ef4-e11a-847ab83d718f"
      },
      "outputs": [
        {
          "name": "stdout",
          "output_type": "stream",
          "text": [
            "Collecting chromedriver_autoinstaller\n",
            "  Downloading chromedriver_autoinstaller-0.3.1-py3-none-any.whl (6.3 kB)\n",
            "Installing collected packages: chromedriver-autoinstaller\n",
            "Successfully installed chromedriver-autoinstaller-0.3.1\n"
          ]
        }
      ],
      "source": [
        "!pip install chromedriver_autoinstaller"
      ]
    },
    {
      "cell_type": "code",
      "execution_count": null,
      "id": "06e55f76",
      "metadata": {
        "id": "06e55f76",
        "outputId": "d5862495-2b55-4800-ef79-2dbb03d91740"
      },
      "outputs": [
        {
          "name": "stdout",
          "output_type": "stream",
          "text": [
            "Collecting selenium\n",
            "  Downloading selenium-4.1.3-py3-none-any.whl (968 kB)\n",
            "\u001b[K     |████████████████████████████████| 968 kB 12.2 MB/s eta 0:00:01\n",
            "\u001b[?25hCollecting trio~=0.17\n",
            "  Downloading trio-0.20.0-py3-none-any.whl (359 kB)\n",
            "\u001b[K     |████████████████████████████████| 359 kB 21.6 MB/s eta 0:00:01\n",
            "\u001b[?25hCollecting trio-websocket~=0.9\n",
            "  Downloading trio_websocket-0.9.2-py3-none-any.whl (16 kB)\n",
            "Requirement already satisfied: urllib3[secure,socks]~=1.26 in /Users/shindongwook/opt/anaconda3/lib/python3.9/site-packages (from selenium) (1.26.7)\n",
            "Requirement already satisfied: idna in /Users/shindongwook/opt/anaconda3/lib/python3.9/site-packages (from trio~=0.17->selenium) (3.2)\n",
            "Requirement already satisfied: attrs>=19.2.0 in /Users/shindongwook/opt/anaconda3/lib/python3.9/site-packages (from trio~=0.17->selenium) (21.2.0)\n",
            "Requirement already satisfied: sniffio in /Users/shindongwook/opt/anaconda3/lib/python3.9/site-packages (from trio~=0.17->selenium) (1.2.0)\n",
            "Requirement already satisfied: async-generator>=1.9 in /Users/shindongwook/opt/anaconda3/lib/python3.9/site-packages (from trio~=0.17->selenium) (1.10)\n",
            "Collecting outcome\n",
            "  Downloading outcome-1.1.0-py2.py3-none-any.whl (9.7 kB)\n",
            "Requirement already satisfied: sortedcontainers in /Users/shindongwook/opt/anaconda3/lib/python3.9/site-packages (from trio~=0.17->selenium) (2.4.0)\n",
            "Collecting wsproto>=0.14\n",
            "  Downloading wsproto-1.1.0-py3-none-any.whl (24 kB)\n",
            "Requirement already satisfied: pyOpenSSL>=0.14 in /Users/shindongwook/opt/anaconda3/lib/python3.9/site-packages (from urllib3[secure,socks]~=1.26->selenium) (21.0.0)\n",
            "Requirement already satisfied: cryptography>=1.3.4 in /Users/shindongwook/opt/anaconda3/lib/python3.9/site-packages (from urllib3[secure,socks]~=1.26->selenium) (3.4.8)\n",
            "Requirement already satisfied: certifi in /Users/shindongwook/opt/anaconda3/lib/python3.9/site-packages (from urllib3[secure,socks]~=1.26->selenium) (2021.10.8)\n",
            "Requirement already satisfied: PySocks!=1.5.7,<2.0,>=1.5.6 in /Users/shindongwook/opt/anaconda3/lib/python3.9/site-packages (from urllib3[secure,socks]~=1.26->selenium) (1.7.1)\n",
            "Requirement already satisfied: cffi>=1.12 in /Users/shindongwook/opt/anaconda3/lib/python3.9/site-packages (from cryptography>=1.3.4->urllib3[secure,socks]~=1.26->selenium) (1.14.6)\n",
            "Requirement already satisfied: pycparser in /Users/shindongwook/opt/anaconda3/lib/python3.9/site-packages (from cffi>=1.12->cryptography>=1.3.4->urllib3[secure,socks]~=1.26->selenium) (2.20)\n",
            "Requirement already satisfied: six>=1.5.2 in /Users/shindongwook/opt/anaconda3/lib/python3.9/site-packages (from pyOpenSSL>=0.14->urllib3[secure,socks]~=1.26->selenium) (1.16.0)\n",
            "Collecting h11<1,>=0.9.0\n",
            "  Downloading h11-0.13.0-py3-none-any.whl (58 kB)\n",
            "\u001b[K     |████████████████████████████████| 58 kB 30.8 MB/s eta 0:00:01\n",
            "\u001b[?25hInstalling collected packages: outcome, h11, wsproto, trio, trio-websocket, selenium\n",
            "Successfully installed h11-0.13.0 outcome-1.1.0 selenium-4.1.3 trio-0.20.0 trio-websocket-0.9.2 wsproto-1.1.0\n"
          ]
        }
      ],
      "source": [
        "!pip install selenium"
      ]
    },
    {
      "cell_type": "code",
      "execution_count": null,
      "id": "6ee4ecb5",
      "metadata": {
        "id": "6ee4ecb5",
        "outputId": "0434e36a-093f-473d-8153-9b469c86a3b0"
      },
      "outputs": [
        {
          "name": "stdout",
          "output_type": "stream",
          "text": [
            "100\n"
          ]
        }
      ],
      "source": [
        "# 크롬 브라우저 버전에 따라 스스로 크롬드라이버를 다운로드해서 가져오기\n",
        "\n",
        "# 크롬 브라우저 버전 자동 호출 라이브러리 불러오기\n",
        "import chromedriver_autoinstaller\n",
        "\n",
        "# 크롬 드라이버 버전 확인\n",
        "# chrome_ver = chromedriver_autoinstaller.get_chrome_version()\n",
        "# print(chrome_ver)\n",
        "\n",
        "chrome_ver = chromedriver_autoinstaller.get_chrome_version().split('.')[0]\n",
        "print(chrome_ver)\n",
        "\n",
        "# ----------------------------------------------------------------------------------\n",
        "# 실행결과 : 코드와 같은 경로에 크롬 브라우저 버전 폴더가 생성되는지 확인!!\n",
        "# ----------------------------------------------------------------------------------"
      ]
    },
    {
      "cell_type": "markdown",
      "source": [
        "# 맥북 경로 설정  : '/Users/shindongwook/0_shinhan/{chrome_ver}/chromedriver') => shindongwook 만 본인 계정으로 변경"
      ],
      "metadata": {
        "id": "678QPBZNFM6L"
      },
      "id": "678QPBZNFM6L"
    },
    {
      "cell_type": "code",
      "execution_count": null,
      "id": "6f4e5521",
      "metadata": {
        "id": "6f4e5521",
        "outputId": "4ce82c35-1481-4e75-ef32-cc04ccfbc63f"
      },
      "outputs": [
        {
          "name": "stderr",
          "output_type": "stream",
          "text": [
            "/var/folders/yc/76znz7gx0_b14tn6f_gxl3n00000gn/T/ipykernel_35427/713515371.py:4: DeprecationWarning: executable_path has been deprecated, please pass in a Service object\n",
            "  driver = webdriver.Chrome(f'/Users/shindongwook/0_shinhan/{chrome_ver}/chromedriver') # Mac\n"
          ]
        }
      ],
      "source": [
        "# 맥북 경로 설정  : '/Users/shindongwook/0_shinhan/{chrome_ver}/chromedriver') => shindongwook 만 본인 계정으로 변경\n",
        "\n",
        "try:\n",
        "    driver = webdriver.Chrome(f'/Users/shindongwook/0_shinhan/{chrome_ver}/chromedriver') # Mac\n",
        "except:\n",
        "    chromedriver_autoinstaller.install(True)\n",
        "    driver = webdriver.Chrome(f'/Users/shindongwook/0_shinhan/{chrome_ver}/chromedriver')\n",
        "\n",
        "# driver.implicitly_wait(10)\n",
        "\n",
        "# ----------------------------------------------------------------------------------\n",
        "# 실행결과 : 실행하면 빈 브라우저가 열립니다.\n",
        "# ----------------------------------------------------------------------------------"
      ]
    },
    {
      "cell_type": "code",
      "execution_count": null,
      "id": "c5b2c01f",
      "metadata": {
        "id": "c5b2c01f",
        "outputId": "5f1492b5-642a-4905-b3d1-4dc641431304"
      },
      "outputs": [
        {
          "data": {
            "text/plain": [
              "'/Users/shindongwook/0_shinhan/chromedriver'"
            ]
          },
          "execution_count": 31,
          "metadata": {},
          "output_type": "execute_result"
        }
      ],
      "source": [
        "# 경로 자동으로 가져오기 - 테스트\n",
        "\n",
        "import os\n",
        "# print(os.getcwd())\n",
        "os.getcwd() + \"/chromedriver\"\n",
        "# type(os.getcwd())"
      ]
    },
    {
      "cell_type": "code",
      "execution_count": null,
      "id": "3f1e146b",
      "metadata": {
        "id": "3f1e146b",
        "outputId": "b20e17b9-459a-4355-cdee-6ef875de7f60"
      },
      "outputs": [
        {
          "name": "stdout",
          "output_type": "stream",
          "text": [
            "/Users/shindongwook/0_shinhan/100/chromedriver\n"
          ]
        }
      ],
      "source": [
        "# 경로 자동으로 가져오기 - 테스트2\n",
        "\n",
        "path = os.getcwd() + f'/{chrome_ver}/' + \"chromedriver\"\n",
        "print(path)"
      ]
    },
    {
      "cell_type": "code",
      "execution_count": null,
      "id": "27d6875e",
      "metadata": {
        "id": "27d6875e",
        "outputId": "3b6f3d10-d0b1-4335-fe57-2dcc63ef9445"
      },
      "outputs": [
        {
          "name": "stdout",
          "output_type": "stream",
          "text": [
            "/Users/shindongwook/0_shinhan/100/chromedriver\n"
          ]
        },
        {
          "name": "stderr",
          "output_type": "stream",
          "text": [
            "/var/folders/yc/76znz7gx0_b14tn6f_gxl3n00000gn/T/ipykernel_35427/209979144.py:8: DeprecationWarning: executable_path has been deprecated, please pass in a Service object\n",
            "  driver = webdriver.Chrome(path) # Mac\n"
          ]
        }
      ],
      "source": [
        "# 경로 자동화\n",
        "\n",
        "\n",
        "path = os.getcwd() + f'/{chrome_ver}/' + \"chromedriver\"\n",
        "print(path)\n",
        "\n",
        "try:\n",
        "    driver = webdriver.Chrome(path) # Mac\n",
        "except:\n",
        "    chromedriver_autoinstaller.install(True)\n",
        "    driver = webdriver.Chrome(path)\n",
        "\n",
        "# driver.implicitly_wait(10)\n",
        "\n",
        "# ----------------------------------------------------------------------------------\n",
        "# 실행결과 : 실행하면 빈 브라우저가 열립니다.\n",
        "# ----------------------------------------------------------------------------------\n"
      ]
    },
    {
      "cell_type": "code",
      "execution_count": null,
      "id": "bb626ed3",
      "metadata": {
        "id": "bb626ed3"
      },
      "outputs": [],
      "source": [
        "# 경로 자동화 + 에러 메시지 없애기 코드 추가\n",
        "\n",
        "from selenium.webdriver.chrome.service import Service\n",
        "\n",
        "try:\n",
        "    chromedriver = Service(path)\n",
        "    driver = wwebdriver.Chrome(service = chromedriver)\n",
        "except:\n",
        "    chromedriver_autoinstaller.install(True)\n",
        "    driver = webdriver.Chrome(service = chromedriver)\n",
        "    \n",
        "# driver.implicitly_wait(10)\n",
        "\n",
        "# ----------------------------------------------------------------------------------\n",
        "# 실행결과 : 실행하면 빈 브라우저가 열립니다.\n",
        "# ----------------------------------------------------------------------------------"
      ]
    },
    {
      "cell_type": "code",
      "execution_count": null,
      "id": "85106d8b",
      "metadata": {
        "id": "85106d8b"
      },
      "outputs": [],
      "source": [
        "from selenium import webdriver # 봇으로 페이지 들어가기\n",
        "\n",
        "# driver = webdriver.Chrome('./{chrome_ver}/chromedriver.exe') # Windows 경로\n",
        "# driver = webdriver.Chrome(f'/Users/shindongwook/0_shinhan/{chrome_ver}/chromedriver') # Mac 경로\n",
        "\n",
        "driver.implicitly_wait(3)\n",
        "\n",
        "url = 'https://www.instagram.com/'\n",
        "driver.get(url)"
      ]
    },
    {
      "cell_type": "markdown",
      "source": [
        "# 본인 아이디 비번을 코드에 입력하세요\n",
        "* ID : sdw1904@naver.com\n",
        "* PW : "
      ],
      "metadata": {
        "id": "0csZXNMgFYqE"
      },
      "id": "0csZXNMgFYqE"
    },
    {
      "cell_type": "code",
      "execution_count": null,
      "id": "4bd94089",
      "metadata": {
        "scrolled": true,
        "id": "4bd94089"
      },
      "outputs": [],
      "source": [
        "# 인스타그램 계정으로 로그인 하기 - 선택 1\n",
        "\n",
        "# ID : sdw1904@naver.com\n",
        "# PW : \n",
        "\n",
        "# click() : 버튼 클릭\n",
        "# send_keys() : input 태그에 글씨 넣기\n",
        "\n",
        "from selenium.webdriver.common.by import By # 신규 코드 추가\n",
        "\n",
        "insta_id = \"sdw1904@naver.com\"\n",
        "insta_pw = \"\"\n",
        "\n",
        "driver.find_element(by = By.NAME, value = 'username').send_keys(insta_id)\n",
        "driver.find_element(by = By.NAME, value = 'password').send_keys(insta_pw)"
      ]
    },
    {
      "cell_type": "code",
      "execution_count": null,
      "id": "7c07ea7f",
      "metadata": {
        "id": "7c07ea7f"
      },
      "outputs": [],
      "source": [
        "# https://heodolf.tistory.com/80 selector, xpath 보기\n",
        "# https://wkdtjsgur100.github.io/selenium-xpath/\n",
        "# https://cycorld.gitbooks.io/python/content/selenium.html\n",
        "\n",
        "# class 방식\n",
        "# driver.find_element_by_class_name('L3NKy').click()\n",
        "\n",
        "# css_selector 방식\n",
        "# driver.find_element_by_css_selector('#loginForm > div > sdiv:nth-child(3) > button').click()\n",
        "\n",
        "# 인스타그램 홈페이지에서 로그인 버튼 클릭\n",
        "# xpath 방식\n",
        "driver.find_element(by=By.XPATH, value='//*[@id=\"loginForm\"]/div/div[3]/button').click()"
      ]
    },
    {
      "cell_type": "code",
      "source": [
        ""
      ],
      "metadata": {
        "id": "jgjq3W-7Fi1C"
      },
      "id": "jgjq3W-7Fi1C",
      "execution_count": null,
      "outputs": []
    },
    {
      "cell_type": "markdown",
      "source": [
        "# 본인 아이디 비번을 코드에 입력하세요\n",
        "* ID : sdw1904@naver.com\n",
        "* PW : "
      ],
      "metadata": {
        "id": "2fPV-r9SFjOB"
      },
      "id": "2fPV-r9SFjOB"
    },
    {
      "cell_type": "code",
      "execution_count": null,
      "id": "0a73b2b9",
      "metadata": {
        "id": "0a73b2b9"
      },
      "outputs": [],
      "source": [
        "# 페이스북 계정으로 로그인하기 - 선택 2\n",
        "\n",
        "# ID : sdw1904@naver.com\n",
        "# PW : \n",
        "\n",
        "from selenium.webdriver.common.by import By # 신규 문법\n",
        "\n",
        "# 페이스북 버튼 클릭\n",
        "# '//*[@id=\"loginForm\"]/div/div[5]/button'\n",
        "\n",
        "# 인스타그램 홈페이지에서 Facebook으로 로그인 버튼 클릭\n",
        "driver.find_element(by=By.XPATH, value = '//*[@id=\"loginForm\"]/div/div[5]/button').click()"
      ]
    },
    {
      "cell_type": "code",
      "execution_count": null,
      "id": "2ffd6105",
      "metadata": {
        "id": "2ffd6105"
      },
      "outputs": [],
      "source": [
        "# 페이스북 아이디, 비번 입력하기\n",
        "facebook_id = \"sdw1904@naver.com\"\n",
        "facebook_password = \"\"\n",
        "\n",
        "driver.find_element(by=By.NAME, value = \"email\").send_keys(facebook_id)\n",
        "driver.find_element(by=By.NAME, value = \"pass\").send_keys(facebook_password)"
      ]
    },
    {
      "cell_type": "code",
      "execution_count": null,
      "id": "e8faecab",
      "metadata": {
        "id": "e8faecab"
      },
      "outputs": [],
      "source": [
        "# 페이스북 로그인 페이지의 로그인 버튼 클릭\n",
        "driver.find_element(by=By.XPATH, value ='//*[@id=\"loginbutton\"]').click()"
      ]
    },
    {
      "cell_type": "code",
      "execution_count": null,
      "id": "2633d0ab",
      "metadata": {
        "id": "2633d0ab",
        "outputId": "9d4d69b5-04cf-4460-9300-64e2d864cca3"
      },
      "outputs": [
        {
          "name": "stdout",
          "output_type": "stream",
          "text": [
            "찾고 싶은 검색어를 입력하세요 : 에스파\n"
          ]
        }
      ],
      "source": [
        "import time\n",
        "\n",
        "# 사용자가 원하는 검색어 입력 받기 위해서 input() 함수 적용\n",
        "searching = input(\"찾고 싶은 검색어를 입력하세요 : \")\n",
        "\n",
        "url = f'https://www.instagram.com/explore/tags/{searching}'\n",
        "# print(url)\n",
        "driver.get(url)\n",
        "\n",
        "time.sleep(5)\n",
        "\n",
        "first_aricle_div = driver.find_elements(by=By.CSS_SELECTOR, value='div._9AhH0')[0]\n",
        "first_aricle_div.click()"
      ]
    }
  ],
  "metadata": {
    "kernelspec": {
      "display_name": "Python 3 (ipykernel)",
      "language": "python",
      "name": "python3"
    },
    "language_info": {
      "codemirror_mode": {
        "name": "ipython",
        "version": 3
      },
      "file_extension": ".py",
      "mimetype": "text/x-python",
      "name": "python",
      "nbconvert_exporter": "python",
      "pygments_lexer": "ipython3",
      "version": "3.9.7"
    },
    "colab": {
      "name": "220410_인스타그램_맥경로설정_페이스북로그인추가.ipynb",
      "provenance": [],
      "collapsed_sections": [],
      "include_colab_link": true
    }
  },
  "nbformat": 4,
  "nbformat_minor": 5
}