{
  "nbformat": 4,
  "nbformat_minor": 0,
  "metadata": {
    "colab": {
      "name": "세종사이버대_8주차_유튜브 크롤링1.ipynb",
      "provenance": [],
      "collapsed_sections": [
        "9bU9SRnUn872",
        "avJ-4UzxoASD",
        "Ah7TSitdt5TY",
        "7MNV73H6pV0Z",
        "K7_4GRZPt18K",
        "HzDgP6yqv5l8",
        "Ob0VxRj1pWme",
        "uOJ2R01CoThv",
        "IMticlxkyCrO",
        "wfK2TBNNDSrT",
        "BIPuHGzVAc3S",
        "4m1o8QwUDa34",
        "xzsuk7csWYvH",
        "--Vg0WdaCjje",
        "SzTr3KSTzn1l",
        "-QtXGW8JFWbr",
        "4o-OMR6qEJyX"
      ],
      "authorship_tag": "ABX9TyOZOYiUG0TWCsOum1tZ8jnG",
      "include_colab_link": true
    },
    "kernelspec": {
      "name": "python3",
      "display_name": "Python 3"
    },
    "language_info": {
      "name": "python"
    }
  },
  "cells": [
    {
      "cell_type": "markdown",
      "metadata": {
        "id": "view-in-github",
        "colab_type": "text"
      },
      "source": [
        "<a href=\"https://colab.research.google.com/github/sdw1621/shinhan_university/blob/main/%EC%8B%A0%ED%95%9C%EB%8C%80_4%EC%A3%BC%EC%B0%A8_%EC%9C%A0%ED%8A%9C%EB%B8%8C_%ED%81%AC%EB%A1%A4%EB%A7%811.ipynb\" target=\"_parent\"><img src=\"https://colab.research.google.com/assets/colab-badge.svg\" alt=\"Open In Colab\"/></a>"
      ]
    },
    {
      "cell_type": "markdown",
      "metadata": {
        "id": "9bU9SRnUn872"
      },
      "source": [
        "###**1. pytube 패키지 설치**"
      ]
    },
    {
      "cell_type": "code",
      "metadata": {
        "colab": {
          "base_uri": "https://localhost:8080/"
        },
        "id": "Y2qrVCCMiKhA",
        "outputId": "6805378f-062a-407a-ee37-de30c5e87216"
      },
      "source": [
        "!pip install pytube"
      ],
      "execution_count": null,
      "outputs": [
        {
          "output_type": "stream",
          "name": "stdout",
          "text": [
            "Collecting pytube\n",
            "  Downloading pytube-11.0.1-py3-none-any.whl (56 kB)\n",
            "\u001b[?25l\r\u001b[K     |█████▉                          | 10 kB 20.9 MB/s eta 0:00:01\r\u001b[K     |███████████▋                    | 20 kB 11.6 MB/s eta 0:00:01\r\u001b[K     |█████████████████▌              | 30 kB 9.8 MB/s eta 0:00:01\r\u001b[K     |███████████████████████▎        | 40 kB 8.9 MB/s eta 0:00:01\r\u001b[K     |█████████████████████████████▏  | 51 kB 5.2 MB/s eta 0:00:01\r\u001b[K     |████████████████████████████████| 56 kB 2.4 MB/s \n",
            "\u001b[?25hInstalling collected packages: pytube\n",
            "Successfully installed pytube-11.0.1\n"
          ]
        }
      ]
    },
    {
      "cell_type": "markdown",
      "metadata": {
        "id": "avJ-4UzxoASD"
      },
      "source": [
        "###**2. pytube 패키지 중 YouTube 함수 호출**"
      ]
    },
    {
      "cell_type": "markdown",
      "metadata": {
        "id": "Lz7Rh-jgo9o8"
      },
      "source": [
        "####**2-1. url(aespa 에스파 'Next Level' MV) 정보로 동영상 가져오기**"
      ]
    },
    {
      "cell_type": "code",
      "metadata": {
        "id": "KbIwxolWihCg"
      },
      "source": [
        "# pytube API 사이트\n",
        "# https://pytube.io/en/latest/user/quickstart.html\n",
        "\n",
        "from pytube import YouTube\n",
        "\n",
        "# aespa 에스파 'Next Level' MV\n",
        "yt = YouTube(\"https://www.youtube.com/watch?v=4TWR90KJl84\")"
      ],
      "execution_count": null,
      "outputs": []
    },
    {
      "cell_type": "markdown",
      "metadata": {
        "id": "Ah7TSitdt5TY"
      },
      "source": [
        "###**3. 동영상 정보가져오기**"
      ]
    },
    {
      "cell_type": "markdown",
      "metadata": {
        "id": "7MNV73H6pV0Z"
      },
      "source": [
        "####**3-1. url 정보 중에 제목(title) 가져오기**"
      ]
    },
    {
      "cell_type": "code",
      "metadata": {
        "colab": {
          "base_uri": "https://localhost:8080/"
        },
        "id": "hTDHVTQ7pWIW",
        "outputId": "841b1c45-1c77-4ca5-c479-81ddb2701b32"
      },
      "source": [
        "print(yt.title)"
      ],
      "execution_count": null,
      "outputs": [
        {
          "output_type": "stream",
          "name": "stdout",
          "text": [
            "aespa 에스파 'Next Level' MV\n"
          ]
        }
      ]
    },
    {
      "cell_type": "markdown",
      "metadata": {
        "id": "K7_4GRZPt18K"
      },
      "source": [
        "####**3-2. url 정보 중에 동영상 길이(length) 가져오기**"
      ]
    },
    {
      "cell_type": "code",
      "metadata": {
        "colab": {
          "base_uri": "https://localhost:8080/"
        },
        "id": "O8SJKuDlt2FZ",
        "outputId": "0ab45fa2-9d62-496f-e2ab-ab6549a7123b"
      },
      "source": [
        "# 동영상 길이\n",
        "length = yt.length\n",
        "\n",
        "print(yt.length)"
      ],
      "execution_count": null,
      "outputs": [
        {
          "output_type": "stream",
          "name": "stdout",
          "text": [
            "236\n"
          ]
        }
      ]
    },
    {
      "cell_type": "markdown",
      "metadata": {
        "id": "HzDgP6yqv5l8"
      },
      "source": [
        "####**3-3. url 정보 중에 동영상 썸네일(thumbnail) 가져오기**"
      ]
    },
    {
      "cell_type": "code",
      "metadata": {
        "colab": {
          "base_uri": "https://localhost:8080/"
        },
        "id": "xSlwOrnDv5vt",
        "outputId": "5cea5462-e17d-498e-c374-6a84a943c797"
      },
      "source": [
        "# 동영상 썸네일\n",
        "thumbnail_url = yt.thumbnail_url\n",
        "\n",
        "print(thumbnail_url)"
      ],
      "execution_count": null,
      "outputs": [
        {
          "output_type": "stream",
          "name": "stdout",
          "text": [
            "https://i.ytimg.com/vi/4TWR90KJl84/sddefault.jpg\n"
          ]
        }
      ]
    },
    {
      "cell_type": "markdown",
      "metadata": {
        "id": "Ob0VxRj1pWme"
      },
      "source": [
        "####**3-4. url 정보들(제목, 동영상 길이, 채널명, 썸네일, 조회수, 상세설명) 가져오기(수업에서는 스킵)**"
      ]
    },
    {
      "cell_type": "code",
      "metadata": {
        "id": "Nf0elVuFpWuU"
      },
      "source": [
        "# 제목\n",
        "title = yt.title\n",
        "# 동영상 길이\n",
        "length = yt.length\n",
        "# 동영상 채널명\n",
        "author = yt.author\n",
        "# 동영상 썸네일\n",
        "thumbnail_url = yt.thumbnail_url\n",
        "# 동영상 조회수\n",
        "views = yt.views\n",
        "# 동영상 상세설명\n",
        "description = yt.description.strip()"
      ],
      "execution_count": null,
      "outputs": []
    },
    {
      "cell_type": "markdown",
      "metadata": {
        "id": "uOJ2R01CoThv"
      },
      "source": [
        "####**3-5. 동영상 플레이리스트 출력 (수업에서는 스킵, 학생분들 실습)**"
      ]
    },
    {
      "cell_type": "code",
      "metadata": {
        "id": "4X-efW5UoTZQ"
      },
      "source": [
        "# https://www.kejisen.com/ko/article/206016741.html\n",
        "# https://www.debugcn.com/ko/article/47205317.html\n",
        "# https://github.com/pytube/pytube/issues/869\n",
        "# https://m.blog.naver.com/arfwene/221555916226\n",
        "\n",
        "# regex\n",
        "# https://www.kejisen.com/ko/article/203567939.html\n",
        "# https://www.inflearn.com/questions/8706\n",
        "\n",
        "import pytube\n",
        "from pytube.exceptions import VideoPrivate\n",
        "\n",
        "# 여자가수 뮤비 모음\n",
        "pl = pytube.Playlist(\"https://www.youtube.com/watch?v=c9RzZpV460k&list=PLaq57sKEfJoYJeCHS8e3hDSI8otocnEnz\")\n",
        "print(pl)\n",
        "\n",
        "for video in pl.videos:\n",
        "    try:\n",
        "      print(video.title)\n",
        "    except VideoUnavailable:\n",
        "      pass  # Skip videos that can't be loade\n",
        "    except VideoPrivate:\n",
        "      continue\n",
        "    finally:\n",
        "      print(\"\\n\")"
      ],
      "execution_count": null,
      "outputs": []
    },
    {
      "cell_type": "markdown",
      "metadata": {
        "id": "IMticlxkyCrO"
      },
      "source": [
        "###**4. 썸네일 이미지 다운로드**"
      ]
    },
    {
      "cell_type": "code",
      "metadata": {
        "colab": {
          "base_uri": "https://localhost:8080/"
        },
        "id": "5GiM5qgNyC1_",
        "outputId": "69c13a61-c17f-4c09-ef4c-f006055f067d"
      },
      "source": [
        "import urllib.request\n",
        "print(yt.thumbnail_url)\n",
        "\n",
        "yt.title = yt.title.replace(\"/\",\"_\")\n",
        "\n",
        "urllib.request.urlretrieve(yt.thumbnail_url, f'{yt.title}.jpg')"
      ],
      "execution_count": null,
      "outputs": [
        {
          "output_type": "stream",
          "name": "stdout",
          "text": [
            "https://i.ytimg.com/vi/4TWR90KJl84/sddefault.jpg\n"
          ]
        },
        {
          "output_type": "execute_result",
          "data": {
            "text/plain": [
              "(\"aespa 에스파 'Next Level' MV.jpg\", <http.client.HTTPMessage at 0x7f29d72113d0>)"
            ]
          },
          "metadata": {},
          "execution_count": 9
        }
      ]
    },
    {
      "cell_type": "markdown",
      "metadata": {
        "id": "wfK2TBNNDSrT"
      },
      "source": [
        "###**5. 동영상 다운로드**"
      ]
    },
    {
      "cell_type": "markdown",
      "metadata": {
        "id": "BIPuHGzVAc3S"
      },
      "source": [
        "####**5-1. 전체 동영상 정보 보기(스킵)**"
      ]
    },
    {
      "cell_type": "code",
      "metadata": {
        "colab": {
          "base_uri": "https://localhost:8080/"
        },
        "id": "u4Tt17IA-GOR",
        "outputId": "9c273801-2ebf-4df3-80a6-001f00fb8b3f"
      },
      "source": [
        "# https://pytube.io/en/latest/user/streams.html#downloading-streams\n",
        "\n",
        "print(\"stream 객체 전체보기 :\")\n",
        "\n",
        "yt_streams_list = yt.streams\n",
        "\n",
        "for i in range(len(yt_streams_list)): \n",
        "    print(i, \":\",yt_streams_list[i]) # itag, res로 sort 되는지 확인"
      ],
      "execution_count": null,
      "outputs": [
        {
          "output_type": "stream",
          "name": "stdout",
          "text": [
            "stream 객체 전체보기 :\n",
            "0 : <Stream: itag=\"17\" mime_type=\"video/3gpp\" res=\"144p\" fps=\"12fps\" vcodec=\"mp4v.20.3\" acodec=\"mp4a.40.2\" progressive=\"True\" type=\"video\">\n",
            "1 : <Stream: itag=\"18\" mime_type=\"video/mp4\" res=\"360p\" fps=\"24fps\" vcodec=\"avc1.42001E\" acodec=\"mp4a.40.2\" progressive=\"True\" type=\"video\">\n",
            "2 : <Stream: itag=\"22\" mime_type=\"video/mp4\" res=\"720p\" fps=\"24fps\" vcodec=\"avc1.64001F\" acodec=\"mp4a.40.2\" progressive=\"True\" type=\"video\">\n",
            "3 : <Stream: itag=\"313\" mime_type=\"video/webm\" res=\"2160p\" fps=\"24fps\" vcodec=\"vp9\" progressive=\"False\" type=\"video\">\n",
            "4 : <Stream: itag=\"401\" mime_type=\"video/mp4\" res=\"2160p\" fps=\"24fps\" vcodec=\"av01.0.12M.08\" progressive=\"False\" type=\"video\">\n",
            "5 : <Stream: itag=\"271\" mime_type=\"video/webm\" res=\"1440p\" fps=\"24fps\" vcodec=\"vp9\" progressive=\"False\" type=\"video\">\n",
            "6 : <Stream: itag=\"400\" mime_type=\"video/mp4\" res=\"1440p\" fps=\"24fps\" vcodec=\"av01.0.12M.08\" progressive=\"False\" type=\"video\">\n",
            "7 : <Stream: itag=\"137\" mime_type=\"video/mp4\" res=\"1080p\" fps=\"24fps\" vcodec=\"avc1.640028\" progressive=\"False\" type=\"video\">\n",
            "8 : <Stream: itag=\"248\" mime_type=\"video/webm\" res=\"1080p\" fps=\"24fps\" vcodec=\"vp9\" progressive=\"False\" type=\"video\">\n",
            "9 : <Stream: itag=\"399\" mime_type=\"video/mp4\" res=\"1080p\" fps=\"24fps\" vcodec=\"av01.0.08M.08\" progressive=\"False\" type=\"video\">\n",
            "10 : <Stream: itag=\"136\" mime_type=\"video/mp4\" res=\"720p\" fps=\"24fps\" vcodec=\"avc1.4d401f\" progressive=\"False\" type=\"video\">\n",
            "11 : <Stream: itag=\"247\" mime_type=\"video/webm\" res=\"720p\" fps=\"24fps\" vcodec=\"vp9\" progressive=\"False\" type=\"video\">\n",
            "12 : <Stream: itag=\"398\" mime_type=\"video/mp4\" res=\"720p\" fps=\"24fps\" vcodec=\"av01.0.05M.08\" progressive=\"False\" type=\"video\">\n",
            "13 : <Stream: itag=\"135\" mime_type=\"video/mp4\" res=\"480p\" fps=\"24fps\" vcodec=\"avc1.4d401e\" progressive=\"False\" type=\"video\">\n",
            "14 : <Stream: itag=\"244\" mime_type=\"video/webm\" res=\"480p\" fps=\"24fps\" vcodec=\"vp9\" progressive=\"False\" type=\"video\">\n",
            "15 : <Stream: itag=\"397\" mime_type=\"video/mp4\" res=\"480p\" fps=\"24fps\" vcodec=\"av01.0.04M.08\" progressive=\"False\" type=\"video\">\n",
            "16 : <Stream: itag=\"134\" mime_type=\"video/mp4\" res=\"360p\" fps=\"24fps\" vcodec=\"avc1.4d401e\" progressive=\"False\" type=\"video\">\n",
            "17 : <Stream: itag=\"243\" mime_type=\"video/webm\" res=\"360p\" fps=\"24fps\" vcodec=\"vp9\" progressive=\"False\" type=\"video\">\n",
            "18 : <Stream: itag=\"396\" mime_type=\"video/mp4\" res=\"360p\" fps=\"24fps\" vcodec=\"av01.0.01M.08\" progressive=\"False\" type=\"video\">\n",
            "19 : <Stream: itag=\"133\" mime_type=\"video/mp4\" res=\"240p\" fps=\"24fps\" vcodec=\"avc1.4d4015\" progressive=\"False\" type=\"video\">\n",
            "20 : <Stream: itag=\"242\" mime_type=\"video/webm\" res=\"240p\" fps=\"24fps\" vcodec=\"vp9\" progressive=\"False\" type=\"video\">\n",
            "21 : <Stream: itag=\"395\" mime_type=\"video/mp4\" res=\"240p\" fps=\"24fps\" vcodec=\"av01.0.00M.08\" progressive=\"False\" type=\"video\">\n",
            "22 : <Stream: itag=\"160\" mime_type=\"video/mp4\" res=\"144p\" fps=\"24fps\" vcodec=\"avc1.4d400c\" progressive=\"False\" type=\"video\">\n",
            "23 : <Stream: itag=\"278\" mime_type=\"video/webm\" res=\"144p\" fps=\"24fps\" vcodec=\"vp9\" progressive=\"False\" type=\"video\">\n",
            "24 : <Stream: itag=\"394\" mime_type=\"video/mp4\" res=\"144p\" fps=\"24fps\" vcodec=\"av01.0.00M.08\" progressive=\"False\" type=\"video\">\n",
            "25 : <Stream: itag=\"139\" mime_type=\"audio/mp4\" abr=\"48kbps\" acodec=\"mp4a.40.5\" progressive=\"False\" type=\"audio\">\n",
            "26 : <Stream: itag=\"140\" mime_type=\"audio/mp4\" abr=\"128kbps\" acodec=\"mp4a.40.2\" progressive=\"False\" type=\"audio\">\n",
            "27 : <Stream: itag=\"249\" mime_type=\"audio/webm\" abr=\"50kbps\" acodec=\"opus\" progressive=\"False\" type=\"audio\">\n",
            "28 : <Stream: itag=\"250\" mime_type=\"audio/webm\" abr=\"70kbps\" acodec=\"opus\" progressive=\"False\" type=\"audio\">\n",
            "29 : <Stream: itag=\"251\" mime_type=\"audio/webm\" abr=\"160kbps\" acodec=\"opus\" progressive=\"False\" type=\"audio\">\n"
          ]
        }
      ]
    },
    {
      "cell_type": "markdown",
      "metadata": {
        "id": "4m1o8QwUDa34"
      },
      "source": [
        "####**5-2. 확장자 .mp4, 프로그래시브, 해상도 높은 동영상부터 나열하여 보여주기**\n",
        "\n",
        "![image.png](data:image/png;base64,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)"
      ]
    },
    {
      "cell_type": "code",
      "metadata": {
        "colab": {
          "base_uri": "https://localhost:8080/"
        },
        "id": "f5dbHnA0AkyM",
        "outputId": "e43ca6ad-24ee-42ce-d80a-ae07605fc8eb"
      },
      "source": [
        "# https://seolin.tistory.com/93\n",
        "\n",
        "for video in yt.streams.filter(progressive=True, file_extension='mp4').order_by('resolution').desc():\n",
        "    print(str(video))"
      ],
      "execution_count": null,
      "outputs": [
        {
          "output_type": "stream",
          "name": "stdout",
          "text": [
            "<Stream: itag=\"22\" mime_type=\"video/mp4\" res=\"720p\" fps=\"24fps\" vcodec=\"avc1.64001F\" acodec=\"mp4a.40.2\" progressive=\"True\" type=\"video\">\n",
            "<Stream: itag=\"18\" mime_type=\"video/mp4\" res=\"360p\" fps=\"24fps\" vcodec=\"avc1.42001E\" acodec=\"mp4a.40.2\" progressive=\"True\" type=\"video\">\n"
          ]
        }
      ]
    },
    {
      "cell_type": "markdown",
      "metadata": {
        "id": "mRuY-05-UOe4"
      },
      "source": [
        "####**5-3. 사용자가 원하는 동영상 다운로드**"
      ]
    },
    {
      "cell_type": "code",
      "metadata": {
        "colab": {
          "base_uri": "https://localhost:8080/",
          "height": 34
        },
        "id": "d7OGCKRvThVs",
        "outputId": "92499c3e-2fac-4c07-d2d5-ca30868e9f2c"
      },
      "source": [
        "stream = yt.streams.get_by_itag(22)\n",
        "stream.download()"
      ],
      "execution_count": null,
      "outputs": [
        {
          "output_type": "execute_result",
          "data": {
            "application/vnd.google.colaboratory.intrinsic+json": {
              "type": "string"
            },
            "text/plain": [
              "'/content/aespa 에스파 Next Level MV.mp4'"
            ]
          },
          "metadata": {},
          "execution_count": 34
        }
      ]
    },
    {
      "cell_type": "markdown",
      "metadata": {
        "id": "xzsuk7csWYvH"
      },
      "source": [
        "###**6. 자막 추출하기**"
      ]
    },
    {
      "cell_type": "markdown",
      "metadata": {
        "id": "--Vg0WdaCjje"
      },
      "source": [
        "####**6-1. 자막 정보 보기**"
      ]
    },
    {
      "cell_type": "code",
      "metadata": {
        "colab": {
          "base_uri": "https://localhost:8080/"
        },
        "id": "mLSF9mcjWr0B",
        "outputId": "f17f9881-4162-43e7-81b5-6f8e59895a05"
      },
      "source": [
        "# aespa 에스파 'Next Level' MV\n",
        "yt = YouTube('https://www.youtube.com/watch?v=4TWR90KJl84')\n",
        "\n",
        "# YouTube 객체에서 caption 객체를 가져옴\n",
        "yt_captions = yt.captions\n",
        "\n",
        "print(\"다운가능한 영상 자막 정보 :\")\n",
        "for i, cap in enumerate(yt.captions.all()):\n",
        "    print(i, \" : \", cap)"
      ],
      "execution_count": null,
      "outputs": [
        {
          "output_type": "stream",
          "name": "stdout",
          "text": [
            "다운가능한 영상 자막 정보 :\n",
            "0  :  <Caption lang=\"Chinese\" code=\"zh\">\n",
            "1  :  <Caption lang=\"English\" code=\"en\">\n",
            "2  :  <Caption lang=\"Indonesian\" code=\"id\">\n",
            "3  :  <Caption lang=\"Japanese\" code=\"ja\">\n",
            "4  :  <Caption lang=\"Korean\" code=\"ko\">\n",
            "5  :  <Caption lang=\"Thai\" code=\"th\">\n",
            "6  :  <Caption lang=\"Vietnamese\" code=\"vi\">\n"
          ]
        },
        {
          "output_type": "stream",
          "name": "stderr",
          "text": [
            "/usr/local/lib/python3.7/dist-packages/ipykernel_launcher.py:8: DeprecationWarning: Call to deprecated function all (This object can be treated as a dictionary).\n",
            "  \n"
          ]
        }
      ]
    },
    {
      "cell_type": "code",
      "metadata": {
        "colab": {
          "base_uri": "https://localhost:8080/"
        },
        "id": "SvBxxw-b8U_V",
        "outputId": "59683bca-bf5f-4c1d-a988-dd5413956394"
      },
      "source": [
        "print(\"언어를 선택하세요 (code 입력, 소문자로 입력, ex. 한국어 : ko): \") # 코드를 입력해야 됨\n",
        "\n",
        "code = input()\n",
        "my_caption = yt_captions[code]\n",
        "\n",
        "print(\"선택된 caption : \", my_caption.code)"
      ],
      "execution_count": null,
      "outputs": [
        {
          "output_type": "stream",
          "name": "stdout",
          "text": [
            "언어를 선택하세요 (code 입력, 소문자로 입력, ex. 한국어 : ko): \n",
            "ko\n",
            "선택된 caption :  ko\n"
          ]
        }
      ]
    },
    {
      "cell_type": "markdown",
      "metadata": {
        "id": "SzTr3KSTzn1l"
      },
      "source": [
        "####**6-2. 자막 추출하기**"
      ]
    },
    {
      "cell_type": "code",
      "metadata": {
        "colab": {
          "base_uri": "https://localhost:8080/"
        },
        "id": "e7g4lctYz5lw",
        "outputId": "73942084-a9aa-43de-e45a-2ee88dba730b"
      },
      "source": [
        "caption = yt.captions[my_caption.code]\n",
        "\n",
        "if caption == None:\n",
        "    caption = yt.captions.all()[0]\n",
        "\n",
        "print(caption.xml_captions)"
      ],
      "execution_count": null,
      "outputs": [
        {
          "output_type": "stream",
          "name": "stdout",
          "text": [
            "<?xml version=\"1.0\" encoding=\"utf-8\" ?><timedtext format=\"3\">\n",
            "<body>\n",
            "<p t=\"16430\" d=\"3246\">I’m on the Next Level yeah</p>\n",
            "<p t=\"19676\" d=\"2286\">절대적 룰을 지켜</p>\n",
            "<p t=\"21962\" d=\"3999\">내 손을 놓지 말아 결속은 나의 무기</p>\n",
            "<p t=\"25961\" d=\"2640\">광야로 걸어가</p>\n",
            "<p t=\"28601\" d=\"2147\">알아 네 Home ground</p>\n",
            "<p t=\"30748\" d=\"3895\">위협에 맞서서 제껴라 제껴라 제껴라</p>\n",
            "<p t=\"37847\" d=\"4494\">상상도 못한 Black out 유혹은 깊고 진해</p>\n",
            "<p t=\"46621\" d=\"4941\">맞잡은 손을 놓쳐 난 절대 포기 못해</p>\n",
            "<p t=\"51562\" d=\"2786\">I’m on the Next Level</p>\n",
            "<p t=\"54348\" d=\"2652\">저 너머의 문을 열어</p>\n",
            "<p t=\"57000\" d=\"2477\">Next Level 널</p>\n",
            "<p t=\"59477\" d=\"1965\">결국엔 내가 부셔</p>\n",
            "<p t=\"61442\" d=\"4327\">Next Level KOSMO에 닿을 때까지</p>\n",
            "<p t=\"65769\" d=\"4168\">Next Level 제껴라 제껴라 제껴라</p>\n",
            "<p t=\"69937\" d=\"2176\">La la la la la la</p>\n",
            "<p t=\"72113\" d=\"2184\">La la la la la la</p>\n",
            "<p t=\"74297\" d=\"2202\">La la la la la la</p>\n",
            "<p t=\"76499\" d=\"1733\">La la la la la</p>\n",
            "<p t=\"78232\" d=\"2497\">I see the NU EVO.</p>\n",
            "<p t=\"80729\" d=\"3633\">적대적인 고난과 슬픔은</p>\n",
            "<p t=\"84362\" d=\"2889\">널 더 Popping 진화시켜</p>\n",
            "<p t=\"87251\" d=\"2327\">That’s my nævis It’s my nævis</p>\n",
            "<p t=\"89578\" d=\"4678\">You lead, we follow 감정들을 배운 다음</p>\n",
            "<p t=\"94256\" d=\"2182\">Watch me while I make it out</p>\n",
            "<p t=\"96438\" d=\"2466\">Watch me while I work it out</p>\n",
            "<p t=\"98904\" d=\"2181\">Watch me while I make it out</p>\n",
            "<p t=\"101085\" d=\"2037\">Watch me while I work it out</p>\n",
            "<p t=\"103122\" d=\"2215\">Work it work it work it out</p>\n",
            "<p t=\"105337\" d=\"3979\">감당할 수 없는 절망도</p>\n",
            "<p t=\"109316\" d=\"3893\">내 믿음을 깨지 못해</p>\n",
            "<p t=\"113209\" d=\"4772\">더 아픈 시련을 맞아도 난</p>\n",
            "<p t=\"117981\" d=\"5019\">잡은 손을 놓지 않을게 Oh</p>\n",
            "<p t=\"128344\" d=\"2611\">절대로 뒤를 돌아보지 말아</p>\n",
            "<p t=\"130955\" d=\"2591\">광야의 것 탐내지 말아</p>\n",
            "<p t=\"133546\" d=\"4558\">약속이 깨지면 모두 걷잡을 수 없게 돼</p>\n",
            "<p t=\"138104\" d=\"2944\">언제부턴가 불안해져 가는 신호</p>\n",
            "<p t=\"141048\" d=\"2918\">널 파괴하고 말 거야</p>\n",
            "<p t=\"143966\" d=\"4720\">Come on! Show me the way to KOSMO Yeah</p>\n",
            "<p t=\"148686\" d=\"2490\">Black Mamba가 만들어낸 환각 퀘스트</p>\n",
            "<p t=\"151176\" d=\"2948\">aespa, ae를 분리시켜놓길 원해 그래</p>\n",
            "<p t=\"154124\" d=\"2385\">중심을 잃고 목소리도 잃고</p>\n",
            "<p t=\"156509\" d=\"3090\">비난받고 사람들과 멀어지는 착각 속에 </p>\n",
            "<p t=\"159599\" d=\"2374\">naevis 우리 ae, ae들을 불러봐</p>\n",
            "<p t=\"161973\" d=\"2699\">aespa의 Next Level “P.O.S”를 열어봐</p>\n",
            "<p t=\"164672\" d=\"2459\">이건 REAL WORLD 깨어났어</p>\n",
            "<p t=\"167131\" d=\"910\">We against the villain</p>\n",
            "<p t=\"168041\" d=\"752\">What’s the name?</p>\n",
            "<p t=\"168793\" d=\"1013\">Black Mamba</p>\n",
            "<p t=\"174635\" d=\"2454\">결국 난 문을 열어</p>\n",
            "<p t=\"177089\" d=\"2220\">그 빛은 네겐 Fire</p>\n",
            "<p t=\"183645\" d=\"2304\">난 궁금해 미치겠어</p>\n",
            "<p t=\"185949\" d=\"2083\">이다음에 펼칠 Story</p>\n",
            "<p t=\"188032\" d=\"500\">Huh!</p>\n",
            "<p t=\"188751\" d=\"2538\">I’m on the Next Level</p>\n",
            "<p t=\"191289\" d=\"2637\">저 너머의 문을 열어</p>\n",
            "<p t=\"193926\" d=\"2306\">Next Level 널</p>\n",
            "<p t=\"196232\" d=\"2409\">결국엔 내가 부셔</p>\n",
            "<p t=\"198921\" d=\"3872\">Next Level KOSMO에 닿을 때까지</p>\n",
            "<p t=\"202793\" d=\"3791\">Next Level 제껴라 제껴라 제껴라</p>\n",
            "<p t=\"206584\" d=\"2302\">I’m on the Next Level</p>\n",
            "<p t=\"208886\" d=\"2636\">더 강해져 자유롭게</p>\n",
            "<p t=\"211522\" d=\"2437\">Next Level 난</p>\n",
            "<p t=\"213959\" d=\"2382\">광야의 내가 아냐</p>\n",
            "<p t=\"216543\" d=\"3847\">Next Level 야수 같은 나를 느껴</p>\n",
            "<p t=\"220390\" d=\"4234\">Next Level 제껴라 제껴라 제껴라</p>\n",
            "<p t=\"224624\" d=\"1163\">Huh!</p>\n",
            "</body>\n",
            "</timedtext>\n",
            "\n"
          ]
        }
      ]
    },
    {
      "cell_type": "markdown",
      "metadata": {
        "id": "-QtXGW8JFWbr"
      },
      "source": [
        "####**6-3. 자막만 뽑아내기**"
      ]
    },
    {
      "cell_type": "code",
      "metadata": {
        "colab": {
          "base_uri": "https://localhost:8080/"
        },
        "id": "dVUW8G0E2nvb",
        "outputId": "247f1680-0678-45ec-b57c-db7493478067"
      },
      "source": [
        "import re\n",
        "\n",
        "content = re.sub(\"<(/)?([a-zA-Z]*)(\\\\s[a-zA-Z]*=[^>]*)?(\\\\s)*(/)?>\", \"\", caption.xml_captions)\n",
        "\n",
        "print(content[39:].strip()) # 38일 때 >가 출력되므로, 39부터 끝까지 출력 후 strip으로 공백 제거\n",
        "\n",
        "# 문자열 슬라이싱1\n",
        "# print(content.index(\"<\")) # 0 \n",
        "# print(content.rindex(\">\")) # 38\n",
        "\n",
        "# 문자열 슬라이싱2\n",
        "# start = content.find(\"<\")\n",
        "# print(start)\n",
        "# end = content.rfind(\">\")\n",
        "# print(end)\n",
        "\n",
        "# 참고 사이트\n",
        "# https://blog.jiktong.kr/entry/정규식을-이용해-html-태그-제거하기\n",
        "# https://data-newbie.tistory.com/206\n",
        "# https://www.fun-coding.org/DS&AL3-4.html\n",
        "# http://zeany.net/46\n",
        "# https://wikidocs.net/4308\n",
        "# https://webisfree.com/2020-07-28/[python]-태그만-제거하는-방법-정규표현식"
      ],
      "execution_count": null,
      "outputs": [
        {
          "output_type": "stream",
          "name": "stdout",
          "text": [
            "I’m on the Next Level yeah\n",
            "절대적 룰을 지켜\n",
            "내 손을 놓지 말아 결속은 나의 무기\n",
            "광야로 걸어가\n",
            "알아 네 Home ground\n",
            "위협에 맞서서 제껴라 제껴라 제껴라\n",
            "상상도 못한 Black out 유혹은 깊고 진해\n",
            "맞잡은 손을 놓쳐 난 절대 포기 못해\n",
            "I’m on the Next Level\n",
            "저 너머의 문을 열어\n",
            "Next Level 널\n",
            "결국엔 내가 부셔\n",
            "Next Level KOSMO에 닿을 때까지\n",
            "Next Level 제껴라 제껴라 제껴라\n",
            "La la la la la la\n",
            "La la la la la la\n",
            "La la la la la la\n",
            "La la la la la\n",
            "I see the NU EVO.\n",
            "적대적인 고난과 슬픔은\n",
            "널 더 Popping 진화시켜\n",
            "That’s my nævis It’s my nævis\n",
            "You lead, we follow 감정들을 배운 다음\n",
            "Watch me while I make it out\n",
            "Watch me while I work it out\n",
            "Watch me while I make it out\n",
            "Watch me while I work it out\n",
            "Work it work it work it out\n",
            "감당할 수 없는 절망도\n",
            "내 믿음을 깨지 못해\n",
            "더 아픈 시련을 맞아도 난\n",
            "잡은 손을 놓지 않을게 Oh\n",
            "절대로 뒤를 돌아보지 말아\n",
            "광야의 것 탐내지 말아\n",
            "약속이 깨지면 모두 걷잡을 수 없게 돼\n",
            "언제부턴가 불안해져 가는 신호\n",
            "널 파괴하고 말 거야\n",
            "Come on! Show me the way to KOSMO Yeah\n",
            "Black Mamba가 만들어낸 환각 퀘스트\n",
            "aespa, ae를 분리시켜놓길 원해 그래\n",
            "중심을 잃고 목소리도 잃고\n",
            "비난받고 사람들과 멀어지는 착각 속에 \n",
            "naevis 우리 ae, ae들을 불러봐\n",
            "aespa의 Next Level “P.O.S”를 열어봐\n",
            "이건 REAL WORLD 깨어났어\n",
            "We against the villain\n",
            "What’s the name?\n",
            "Black Mamba\n",
            "결국 난 문을 열어\n",
            "그 빛은 네겐 Fire\n",
            "난 궁금해 미치겠어\n",
            "이다음에 펼칠 Story\n",
            "Huh!\n",
            "I’m on the Next Level\n",
            "저 너머의 문을 열어\n",
            "Next Level 널\n",
            "결국엔 내가 부셔\n",
            "Next Level KOSMO에 닿을 때까지\n",
            "Next Level 제껴라 제껴라 제껴라\n",
            "I’m on the Next Level\n",
            "더 강해져 자유롭게\n",
            "Next Level 난\n",
            "광야의 내가 아냐\n",
            "Next Level 야수 같은 나를 느껴\n",
            "Next Level 제껴라 제껴라 제껴라\n",
            "Huh!\n"
          ]
        }
      ]
    },
    {
      "cell_type": "code",
      "metadata": {
        "id": "tDiI2Xii62aG"
      },
      "source": [
        "# youtube-dl 패키지 사용법\n",
        "# https://theqoo.net/japan/1960161485\n",
        "\n",
        "# 쥬피터 노트북에서 실행해야 동작됨\n",
        "# https://drive.google.com/file/d/1m-kK74SUDqG6cLkJQ5xFRFTS7JT4y1On/view?usp=sharing"
      ],
      "execution_count": null,
      "outputs": []
    },
    {
      "cell_type": "markdown",
      "metadata": {
        "id": "4o-OMR6qEJyX"
      },
      "source": [
        "####**6-기타. pytube 패키지 버그 (210912_작동 안 됨) - 실행 X**"
      ]
    },
    {
      "cell_type": "code",
      "metadata": {
        "colab": {
          "base_uri": "https://localhost:8080/",
          "height": 634
        },
        "id": "lI6jhc1WXHWb",
        "outputId": "c2484ed1-8c0b-40a0-b8fa-c2ec47072865"
      },
      "source": [
        "# https://m.blog.naver.com/PostView.naver?isHttpsRedirect=true&blogId=skyshin0304&logNo=221620513883\n",
        "\n",
        "print(\"언어를 선택하세요 (code 입력): \")\n",
        "code = input()\n",
        "my_caption = yt_captions.get_by_language_code(code)\n",
        "print(\"선택된 caption : \", my_caption)\n",
        "print(\"선택된 자막 보여주기 :\")\n",
        "# print(my_caption.generate_srt_captions()) # error\n",
        "\n",
        "print(\"end\")"
      ],
      "execution_count": null,
      "outputs": [
        {
          "output_type": "stream",
          "name": "stderr",
          "text": [
            "/usr/local/lib/python3.7/dist-packages/ipykernel_launcher.py:13: DeprecationWarning: Call to deprecated function all (This object can be treated as a dictionary).\n",
            "  del sys.path[0]\n"
          ]
        },
        {
          "output_type": "stream",
          "name": "stdout",
          "text": [
            "다운가능한 영상 자막 정보 :\n",
            "0  :  <Caption lang=\"English\" code=\"en\">\n",
            "1  :  <Caption lang=\"Indonesian\" code=\"id\">\n",
            "2  :  <Caption lang=\"Japanese\" code=\"ja\">\n",
            "3  :  <Caption lang=\"Korean\" code=\"ko\">\n",
            "4  :  <Caption lang=\"Korean (auto-generated)\" code=\"a.ko\">\n",
            "언어를 선택하세요 (code 입력): \n",
            "ko\n",
            "선택된 caption :  <Caption lang=\"Korean\" code=\"ko\">\n",
            "선택된 자막 보여주기 :\n"
          ]
        },
        {
          "output_type": "stream",
          "name": "stderr",
          "text": [
            "/usr/local/lib/python3.7/dist-packages/ipykernel_launcher.py:18: DeprecationWarning: Call to deprecated function get_by_language_code (This object can be treated as a dictionary, i.e. captions['en']).\n"
          ]
        },
        {
          "output_type": "error",
          "ename": "KeyError",
          "evalue": "ignored",
          "traceback": [
            "\u001b[0;31m---------------------------------------------------------------------------\u001b[0m",
            "\u001b[0;31mKeyError\u001b[0m                                  Traceback (most recent call last)",
            "\u001b[0;32m<ipython-input-68-c2d093b8b9a5>\u001b[0m in \u001b[0;36m<module>\u001b[0;34m()\u001b[0m\n\u001b[1;32m     19\u001b[0m \u001b[0mprint\u001b[0m\u001b[0;34m(\u001b[0m\u001b[0;34m\"선택된 caption : \"\u001b[0m\u001b[0;34m,\u001b[0m \u001b[0mmy_caption\u001b[0m\u001b[0;34m)\u001b[0m\u001b[0;34m\u001b[0m\u001b[0;34m\u001b[0m\u001b[0m\n\u001b[1;32m     20\u001b[0m \u001b[0mprint\u001b[0m\u001b[0;34m(\u001b[0m\u001b[0;34m\"선택된 자막 보여주기 :\"\u001b[0m\u001b[0;34m)\u001b[0m\u001b[0;34m\u001b[0m\u001b[0;34m\u001b[0m\u001b[0m\n\u001b[0;32m---> 21\u001b[0;31m \u001b[0mprint\u001b[0m\u001b[0;34m(\u001b[0m\u001b[0mmy_caption\u001b[0m\u001b[0;34m.\u001b[0m\u001b[0mgenerate_srt_captions\u001b[0m\u001b[0;34m(\u001b[0m\u001b[0;34m)\u001b[0m\u001b[0;34m)\u001b[0m\u001b[0;34m\u001b[0m\u001b[0;34m\u001b[0m\u001b[0m\n\u001b[0m\u001b[1;32m     22\u001b[0m \u001b[0;34m\u001b[0m\u001b[0m\n\u001b[1;32m     23\u001b[0m \u001b[0mprint\u001b[0m\u001b[0;34m(\u001b[0m\u001b[0;34m\"end\"\u001b[0m\u001b[0;34m)\u001b[0m\u001b[0;34m\u001b[0m\u001b[0;34m\u001b[0m\u001b[0m\n",
            "\u001b[0;32m/usr/local/lib/python3.7/dist-packages/pytube/captions.py\u001b[0m in \u001b[0;36mgenerate_srt_captions\u001b[0;34m(self)\u001b[0m\n\u001b[1;32m     49\u001b[0m         \u001b[0mrecompiles\u001b[0m \u001b[0mthem\u001b[0m \u001b[0minto\u001b[0m \u001b[0mthe\u001b[0m \u001b[0;34m\"SubRip Subtitle\"\u001b[0m \u001b[0mformat\u001b[0m\u001b[0;34m.\u001b[0m\u001b[0;34m\u001b[0m\u001b[0;34m\u001b[0m\u001b[0m\n\u001b[1;32m     50\u001b[0m         \"\"\"\n\u001b[0;32m---> 51\u001b[0;31m         \u001b[0;32mreturn\u001b[0m \u001b[0mself\u001b[0m\u001b[0;34m.\u001b[0m\u001b[0mxml_caption_to_srt\u001b[0m\u001b[0;34m(\u001b[0m\u001b[0mself\u001b[0m\u001b[0;34m.\u001b[0m\u001b[0mxml_captions\u001b[0m\u001b[0;34m)\u001b[0m\u001b[0;34m\u001b[0m\u001b[0;34m\u001b[0m\u001b[0m\n\u001b[0m\u001b[1;32m     52\u001b[0m \u001b[0;34m\u001b[0m\u001b[0m\n\u001b[1;32m     53\u001b[0m     \u001b[0;34m@\u001b[0m\u001b[0mstaticmethod\u001b[0m\u001b[0;34m\u001b[0m\u001b[0;34m\u001b[0m\u001b[0m\n",
            "\u001b[0;32m/usr/local/lib/python3.7/dist-packages/pytube/captions.py\u001b[0m in \u001b[0;36mxml_caption_to_srt\u001b[0;34m(self, xml_captions)\u001b[0m\n\u001b[1;32m     81\u001b[0m             \u001b[0;32mexcept\u001b[0m \u001b[0mKeyError\u001b[0m\u001b[0;34m:\u001b[0m\u001b[0;34m\u001b[0m\u001b[0;34m\u001b[0m\u001b[0m\n\u001b[1;32m     82\u001b[0m                 \u001b[0mduration\u001b[0m \u001b[0;34m=\u001b[0m \u001b[0;36m0.0\u001b[0m\u001b[0;34m\u001b[0m\u001b[0;34m\u001b[0m\u001b[0m\n\u001b[0;32m---> 83\u001b[0;31m             \u001b[0mstart\u001b[0m \u001b[0;34m=\u001b[0m \u001b[0mfloat\u001b[0m\u001b[0;34m(\u001b[0m\u001b[0mchild\u001b[0m\u001b[0;34m.\u001b[0m\u001b[0mattrib\u001b[0m\u001b[0;34m[\u001b[0m\u001b[0;34m\"start\"\u001b[0m\u001b[0;34m]\u001b[0m\u001b[0;34m)\u001b[0m\u001b[0;34m\u001b[0m\u001b[0;34m\u001b[0m\u001b[0m\n\u001b[0m\u001b[1;32m     84\u001b[0m             \u001b[0mend\u001b[0m \u001b[0;34m=\u001b[0m \u001b[0mstart\u001b[0m \u001b[0;34m+\u001b[0m \u001b[0mduration\u001b[0m\u001b[0;34m\u001b[0m\u001b[0;34m\u001b[0m\u001b[0m\n\u001b[1;32m     85\u001b[0m             \u001b[0msequence_number\u001b[0m \u001b[0;34m=\u001b[0m \u001b[0mi\u001b[0m \u001b[0;34m+\u001b[0m \u001b[0;36m1\u001b[0m  \u001b[0;31m# convert from 0-indexed to 1.\u001b[0m\u001b[0;34m\u001b[0m\u001b[0;34m\u001b[0m\u001b[0m\n",
            "\u001b[0;31mKeyError\u001b[0m: 'start'"
          ]
        }
      ]
    }
  ]
}