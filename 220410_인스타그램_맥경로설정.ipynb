{
  "cells": [
    {
      "cell_type": "markdown",
      "metadata": {
        "id": "view-in-github",
        "colab_type": "text"
      },
      "source": [
        "<a href=\"https://colab.research.google.com/github/sdw1621/shinhan_university/blob/main/220410_%E1%84%8B%E1%85%B5%E1%86%AB%E1%84%89%E1%85%B3%E1%84%90%E1%85%A1%E1%84%80%E1%85%B3%E1%84%85%E1%85%A2%E1%86%B7_%EB%A7%A5%EA%B2%BD%EB%A1%9C%EC%84%A4%EC%A0%95.ipynb\" target=\"_parent\"><img src=\"https://colab.research.google.com/assets/colab-badge.svg\" alt=\"Open In Colab\"/></a>"
      ]
    },
    {
      "cell_type": "code",
      "execution_count": null,
      "id": "7a155e91",
      "metadata": {
        "id": "7a155e91",
        "outputId": "c41bcb23-1c79-47af-fd65-d5f045bc41ab",
        "colab": {
          "base_uri": "https://localhost:8080/"
        }
      },
      "outputs": [
        {
          "output_type": "stream",
          "name": "stdout",
          "text": [
            "Collecting chromedriver_autoinstaller\n",
            "  Downloading chromedriver_autoinstaller-0.3.1-py3-none-any.whl (6.3 kB)\n",
            "Installing collected packages: chromedriver-autoinstaller\n",
            "Successfully installed chromedriver-autoinstaller-0.3.1\n"
          ]
        }
      ],
      "source": [
        "!pip install chromedriver_autoinstaller"
      ]
    },
    {
      "cell_type": "code",
      "execution_count": null,
      "id": "06e55f76",
      "metadata": {
        "id": "06e55f76",
        "outputId": "04715fc9-9c6f-4a32-8357-23d70357e68c",
        "colab": {
          "base_uri": "https://localhost:8080/"
        }
      },
      "outputs": [
        {
          "output_type": "stream",
          "name": "stdout",
          "text": [
            "Collecting selenium\n",
            "  Downloading selenium-4.1.3-py3-none-any.whl (968 kB)\n",
            "\u001b[K     |████████████████████████████████| 968 kB 5.2 MB/s \n",
            "\u001b[?25hCollecting urllib3[secure,socks]~=1.26\n",
            "  Downloading urllib3-1.26.9-py2.py3-none-any.whl (138 kB)\n",
            "\u001b[K     |████████████████████████████████| 138 kB 36.1 MB/s \n",
            "\u001b[?25hCollecting trio-websocket~=0.9\n",
            "  Downloading trio_websocket-0.9.2-py3-none-any.whl (16 kB)\n",
            "Collecting trio~=0.17\n",
            "  Downloading trio-0.20.0-py3-none-any.whl (359 kB)\n",
            "\u001b[K     |████████████████████████████████| 359 kB 64.7 MB/s \n",
            "\u001b[?25hRequirement already satisfied: sortedcontainers in /usr/local/lib/python3.7/dist-packages (from trio~=0.17->selenium) (2.4.0)\n",
            "Requirement already satisfied: idna in /usr/local/lib/python3.7/dist-packages (from trio~=0.17->selenium) (2.10)\n",
            "Collecting async-generator>=1.9\n",
            "  Downloading async_generator-1.10-py3-none-any.whl (18 kB)\n",
            "Collecting sniffio\n",
            "  Downloading sniffio-1.2.0-py3-none-any.whl (10 kB)\n",
            "Requirement already satisfied: attrs>=19.2.0 in /usr/local/lib/python3.7/dist-packages (from trio~=0.17->selenium) (21.4.0)\n",
            "Collecting outcome\n",
            "  Downloading outcome-1.1.0-py2.py3-none-any.whl (9.7 kB)\n",
            "Collecting wsproto>=0.14\n",
            "  Downloading wsproto-1.1.0-py3-none-any.whl (24 kB)\n",
            "Requirement already satisfied: certifi in /usr/local/lib/python3.7/dist-packages (from urllib3[secure,socks]~=1.26->selenium) (2021.10.8)\n",
            "Collecting pyOpenSSL>=0.14\n",
            "  Downloading pyOpenSSL-22.0.0-py2.py3-none-any.whl (55 kB)\n",
            "\u001b[K     |████████████████████████████████| 55 kB 3.8 MB/s \n",
            "\u001b[?25hCollecting cryptography>=1.3.4\n",
            "  Downloading cryptography-36.0.2-cp36-abi3-manylinux_2_24_x86_64.whl (3.6 MB)\n",
            "\u001b[K     |████████████████████████████████| 3.6 MB 33.5 MB/s \n",
            "\u001b[?25hRequirement already satisfied: PySocks!=1.5.7,<2.0,>=1.5.6 in /usr/local/lib/python3.7/dist-packages (from urllib3[secure,socks]~=1.26->selenium) (1.7.1)\n",
            "Requirement already satisfied: cffi>=1.12 in /usr/local/lib/python3.7/dist-packages (from cryptography>=1.3.4->urllib3[secure,socks]~=1.26->selenium) (1.15.0)\n",
            "Requirement already satisfied: pycparser in /usr/local/lib/python3.7/dist-packages (from cffi>=1.12->cryptography>=1.3.4->urllib3[secure,socks]~=1.26->selenium) (2.21)\n",
            "Collecting h11<1,>=0.9.0\n",
            "  Downloading h11-0.13.0-py3-none-any.whl (58 kB)\n",
            "\u001b[K     |████████████████████████████████| 58 kB 2.6 MB/s \n",
            "\u001b[?25hRequirement already satisfied: typing-extensions in /usr/local/lib/python3.7/dist-packages (from h11<1,>=0.9.0->wsproto>=0.14->trio-websocket~=0.9->selenium) (3.10.0.2)\n",
            "Installing collected packages: sniffio, outcome, h11, cryptography, async-generator, wsproto, urllib3, trio, pyOpenSSL, trio-websocket, selenium\n",
            "  Attempting uninstall: urllib3\n",
            "    Found existing installation: urllib3 1.24.3\n",
            "    Uninstalling urllib3-1.24.3:\n",
            "      Successfully uninstalled urllib3-1.24.3\n",
            "\u001b[31mERROR: pip's dependency resolver does not currently take into account all the packages that are installed. This behaviour is the source of the following dependency conflicts.\n",
            "requests 2.23.0 requires urllib3!=1.25.0,!=1.25.1,<1.26,>=1.21.1, but you have urllib3 1.26.9 which is incompatible.\n",
            "datascience 0.10.6 requires folium==0.2.1, but you have folium 0.8.3 which is incompatible.\u001b[0m\n",
            "Successfully installed async-generator-1.10 cryptography-36.0.2 h11-0.13.0 outcome-1.1.0 pyOpenSSL-22.0.0 selenium-4.1.3 sniffio-1.2.0 trio-0.20.0 trio-websocket-0.9.2 urllib3-1.26.9 wsproto-1.1.0\n"
          ]
        }
      ],
      "source": [
        "!pip install selenium"
      ]
    },
    {
      "cell_type": "code",
      "execution_count": null,
      "id": "6ee4ecb5",
      "metadata": {
        "id": "6ee4ecb5"
      },
      "outputs": [],
      "source": [
        "# 크롬 브라우저 버전에 따라 스스로 크롬드라이버를 다운로드해서 가져오기\n",
        "# 라이브러리 불러오기\n",
        "import chromedriver_autoinstaller\n",
        "from selenium import webdriver\n",
        "\n",
        "# 크롬 드라이버 버전 확인\n",
        "# chrome_ver = chromedriver_autoinstaller.get_chrome_version()\n",
        "# print(chrome_ver)\n",
        "\n",
        "chrome_ver = chromedriver_autoinstaller.get_chrome_version().split('.')[0]\n",
        "print(chrome_ver)\n",
        "\n",
        "# 브라우저 열기\n",
        "# 윈도우 경로 설정 : ./{chrome_ver}/chromedriver.exe') # Windows 경로\n",
        "# 맥북 경로 설정  : '/Users/shindongwook/0_shinhan/{chrome_ver}/chromedriver') => shindongwook 만 변경\n",
        "\n",
        "\n",
        "try:\n",
        "    # driver = webdriver.Chrome(f'./{chrome_ver}/chromedriver') # Windows\n",
        "    driver = webdriver.Chrome(f'/Users/shindongwook/0_shinhan/{chrome_ver}/chromedriver') # Mac\n",
        "except:\n",
        "    chromedriver_autoinstaller.install(True)\n",
        "    # driver = webdriver.Chrome(f'./{chrome_ver}/chromedriver') # Windows\n",
        "    driver = webdriver.Chrome(f'/Users/shindongwook/0_shinhan/{chrome_ver}/chromedriver')\n",
        "\n",
        "# driver.implicitly_wait(10)\n",
        "# ----------------------------------------------------------------------------------\n",
        "# 실행결과 : 실행하면 빈 브라우저가 열립니다.\n",
        "# ----------------------------------------------------------------------------------"
      ]
    },
    {
      "cell_type": "code",
      "execution_count": null,
      "id": "85106d8b",
      "metadata": {
        "id": "85106d8b"
      },
      "outputs": [],
      "source": [
        "from selenium import webdriver # 봇으로 페이지 들어가기\n",
        "\n",
        "# driver = webdriver.Chrome('./{chrome_ver}/chromedriver.exe') # Windows 경로\n",
        "# driver = webdriver.Chrome(f'/Users/shindongwook/0_shinhan/{chrome_ver}/chromedriver') # Mac 경로\n",
        "\n",
        "driver.implicitly_wait(3)\n",
        "\n",
        "url = 'https://www.instagram.com/'\n",
        "driver.get(url)"
      ]
    },
    {
      "cell_type": "markdown",
      "source": [
        "# 본인 아이디와 비번 입력하세요\n",
        "* ID : sdw1904@naver.com\n",
        "* PW : "
      ],
      "metadata": {
        "id": "KX1LTYnaGCbB"
      },
      "id": "KX1LTYnaGCbB"
    },
    {
      "cell_type": "code",
      "execution_count": null,
      "id": "4bd94089",
      "metadata": {
        "scrolled": true,
        "id": "4bd94089"
      },
      "outputs": [],
      "source": [
        "# 인스타그램 계정으로 로그인 하기\n",
        "\n",
        "# ID : sdw1904@naver.com\n",
        "# PW : \n",
        "\n",
        "# click() : 버튼 클릭\n",
        "# send_keys() : input 태그에 글씨 넣기\n",
        "\n",
        "from selenium.webdriver.common.by import By # 신규 코드 추가\n",
        "\n",
        "insta_id = \"sdw1904@naver.com\"\n",
        "insta_pw = \"\"\n",
        "\n",
        "driver.find_element(by = By.NAME, value = 'username').send_keys(insta_id)\n",
        "driver.find_element(by = By.NAME, value = 'password').send_keys(insta_pw)"
      ]
    },
    {
      "cell_type": "code",
      "execution_count": null,
      "id": "7c07ea7f",
      "metadata": {
        "id": "7c07ea7f"
      },
      "outputs": [],
      "source": [
        "# https://heodolf.tistory.com/80 selector, xpath 보기\n",
        "# https://wkdtjsgur100.github.io/selenium-xpath/\n",
        "# https://cycorld.gitbooks.io/python/content/selenium.html\n",
        "\n",
        "# class 방식\n",
        "# driver.find_element_by_class_name('L3NKy').click()\n",
        "\n",
        "# css_selector 방식\n",
        "# driver.find_element_by_css_selector('#loginForm > div > sdiv:nth-child(3) > button').click()\n",
        "\n",
        "# xpath 방식\n",
        "driver.find_element(by=By.XPATH, value='//*[@id=\"loginForm\"]/div/div[3]/button').click()"
      ]
    },
    {
      "cell_type": "code",
      "execution_count": null,
      "id": "2633d0ab",
      "metadata": {
        "id": "2633d0ab",
        "outputId": "cc57d55b-99ca-4915-8c3f-9b2f4b82f04b"
      },
      "outputs": [
        {
          "name": "stdout",
          "output_type": "stream",
          "text": [
            "찾고 싶은 검색어를 입력하세요 : 에스파\n"
          ]
        }
      ],
      "source": [
        "import time\n",
        "\n",
        "# 사용자가 원하는 검색어 입력 받기 위해서 input() 함수 적용\n",
        "searching = input(\"찾고 싶은 검색어를 입력하세요 : \")\n",
        "\n",
        "url = f'https://www.instagram.com/explore/tags/{searching}'\n",
        "# print(url)\n",
        "driver.get(url)\n",
        "\n",
        "time.sleep(5)\n",
        "\n",
        "first_aricle_div = driver.find_elements(by=By.CSS_SELECTOR, value='div._9AhH0')[0]\n",
        "first_aricle_div.click()"
      ]
    },
    {
      "cell_type": "code",
      "execution_count": null,
      "id": "01f0bdb6",
      "metadata": {
        "id": "01f0bdb6"
      },
      "outputs": [],
      "source": [
        ""
      ]
    }
  ],
  "metadata": {
    "kernelspec": {
      "display_name": "Python 3 (ipykernel)",
      "language": "python",
      "name": "python3"
    },
    "language_info": {
      "codemirror_mode": {
        "name": "ipython",
        "version": 3
      },
      "file_extension": ".py",
      "mimetype": "text/x-python",
      "name": "python",
      "nbconvert_exporter": "python",
      "pygments_lexer": "ipython3",
      "version": "3.9.7"
    },
    "colab": {
      "name": "220410_인스타그램_맥경로설정.ipynb",
      "provenance": [],
      "collapsed_sections": [],
      "include_colab_link": true
    }
  },
  "nbformat": 4,
  "nbformat_minor": 5
}