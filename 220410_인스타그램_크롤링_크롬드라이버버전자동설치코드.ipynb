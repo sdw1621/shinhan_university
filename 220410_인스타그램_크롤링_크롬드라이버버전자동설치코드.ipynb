{
  "cells": [
    {
      "cell_type": "markdown",
      "metadata": {
        "id": "view-in-github",
        "colab_type": "text"
      },
      "source": [
        "<a href=\"https://colab.research.google.com/github/sdw1621/shinhan_university/blob/main/220410_%EC%9D%B8%EC%8A%A4%ED%83%80%EA%B7%B8%EB%9E%A8_%ED%81%AC%EB%A1%A4%EB%A7%81_%ED%81%AC%EB%A1%AC%EB%93%9C%EB%9D%BC%EC%9D%B4%EB%B2%84%EB%B2%84%EC%A0%84%EC%9E%90%EB%8F%99%EC%84%A4%EC%B9%98%EC%BD%94%EB%93%9C.ipynb\" target=\"_parent\"><img src=\"https://colab.research.google.com/assets/colab-badge.svg\" alt=\"Open In Colab\"/></a>"
      ]
    },
    {
      "cell_type": "code",
      "execution_count": null,
      "metadata": {
        "scrolled": true,
        "id": "ieL8JqMWG9hf",
        "outputId": "57b550b1-0e22-4b32-ec57-25245177cd2e"
      },
      "outputs": [
        {
          "name": "stdout",
          "output_type": "stream",
          "text": [
            "Requirement already satisfied: chromedriver_autoinstaller in c:\\users\\sdw19\\anaconda3\\lib\\site-packages (0.3.1)\n"
          ]
        }
      ],
      "source": [
        "!pip install chromedriver_autoinstaller"
      ]
    },
    {
      "cell_type": "code",
      "execution_count": null,
      "metadata": {
        "id": "LzN9DFiZG9hi",
        "outputId": "6b4b7a61-215c-4918-8b6d-d3747763b491"
      },
      "outputs": [
        {
          "name": "stdout",
          "output_type": "stream",
          "text": [
            "Requirement already satisfied: selenium in c:\\users\\sdw19\\anaconda3\\lib\\site-packages (4.1.3)\n",
            "Requirement already satisfied: trio~=0.17 in c:\\users\\sdw19\\anaconda3\\lib\\site-packages (from selenium) (0.20.0)\n",
            "Requirement already satisfied: trio-websocket~=0.9 in c:\\users\\sdw19\\anaconda3\\lib\\site-packages (from selenium) (0.9.2)\n",
            "Requirement already satisfied: urllib3[secure,socks]~=1.26 in c:\\users\\sdw19\\anaconda3\\lib\\site-packages (from selenium) (1.26.7)\n",
            "Requirement already satisfied: sortedcontainers in c:\\users\\sdw19\\anaconda3\\lib\\site-packages (from trio~=0.17->selenium) (2.4.0)\n",
            "Requirement already satisfied: sniffio in c:\\users\\sdw19\\anaconda3\\lib\\site-packages (from trio~=0.17->selenium) (1.2.0)\n",
            "Requirement already satisfied: attrs>=19.2.0 in c:\\users\\sdw19\\anaconda3\\lib\\site-packages (from trio~=0.17->selenium) (21.2.0)\n",
            "Requirement already satisfied: cffi>=1.14 in c:\\users\\sdw19\\anaconda3\\lib\\site-packages (from trio~=0.17->selenium) (1.14.6)\n",
            "Requirement already satisfied: idna in c:\\users\\sdw19\\anaconda3\\lib\\site-packages (from trio~=0.17->selenium) (3.2)\n",
            "Requirement already satisfied: async-generator>=1.9 in c:\\users\\sdw19\\anaconda3\\lib\\site-packages (from trio~=0.17->selenium) (1.10)\n",
            "Requirement already satisfied: outcome in c:\\users\\sdw19\\anaconda3\\lib\\site-packages (from trio~=0.17->selenium) (1.1.0)\n",
            "Requirement already satisfied: pycparser in c:\\users\\sdw19\\anaconda3\\lib\\site-packages (from cffi>=1.14->trio~=0.17->selenium) (2.20)\n",
            "Requirement already satisfied: wsproto>=0.14 in c:\\users\\sdw19\\anaconda3\\lib\\site-packages (from trio-websocket~=0.9->selenium) (1.1.0)\n",
            "Requirement already satisfied: PySocks!=1.5.7,<2.0,>=1.5.6 in c:\\users\\sdw19\\anaconda3\\lib\\site-packages (from urllib3[secure,socks]~=1.26->selenium) (1.7.1)\n",
            "Requirement already satisfied: pyOpenSSL>=0.14 in c:\\users\\sdw19\\anaconda3\\lib\\site-packages (from urllib3[secure,socks]~=1.26->selenium) (21.0.0)\n",
            "Requirement already satisfied: cryptography>=1.3.4 in c:\\users\\sdw19\\anaconda3\\lib\\site-packages (from urllib3[secure,socks]~=1.26->selenium) (3.4.8)\n",
            "Requirement already satisfied: certifi in c:\\users\\sdw19\\anaconda3\\lib\\site-packages (from urllib3[secure,socks]~=1.26->selenium) (2021.10.8)\n",
            "Requirement already satisfied: six>=1.5.2 in c:\\users\\sdw19\\anaconda3\\lib\\site-packages (from pyOpenSSL>=0.14->urllib3[secure,socks]~=1.26->selenium) (1.16.0)\n",
            "Requirement already satisfied: h11<1,>=0.9.0 in c:\\users\\sdw19\\anaconda3\\lib\\site-packages (from wsproto>=0.14->trio-websocket~=0.9->selenium) (0.13.0)\n"
          ]
        }
      ],
      "source": [
        "!pip install selenium"
      ]
    },
    {
      "cell_type": "code",
      "execution_count": null,
      "metadata": {
        "id": "D4NhhQwZG9hj",
        "outputId": "649f1e14-35f8-4450-fbe4-2e74f3321276"
      },
      "outputs": [
        {
          "name": "stdout",
          "output_type": "stream",
          "text": [
            "100\n"
          ]
        }
      ],
      "source": [
        "# 크롬 브라우저 버전에 따라 스스로 크롬드라이버를 다운로드해서 가져오기\n",
        "# 라이브러리 불러오기\n",
        "import chromedriver_autoinstaller\n",
        "from selenium import webdriver\n",
        "\n",
        "# 크롬 드라이버 버전 확인\n",
        "# chrome_ver = chromedriver_autoinstaller.get_chrome_version()\n",
        "# print(chrome_ver)\n",
        "\n",
        "chrome_ver = chromedriver_autoinstaller.get_chrome_version().split('.')[0]\n",
        "print(chrome_ver)\n"
      ]
    },
    {
      "cell_type": "code",
      "execution_count": null,
      "metadata": {
        "id": "bC-4tl1RG9hj"
      },
      "outputs": [],
      "source": [
        "# 브라우저 열기\n",
        "\n",
        "# 에러 메시지 없애기\n",
        "# C:\\Users\\sdw19\\AppData\\Local\\Temp/ipykernel_23568/2876490480.py:15: DeprecationWarning: executable_path has been deprecated, please pass in a Service object\n",
        "\n",
        "# https://velog.io/@woonmong/DeprecationWarning-executablepath-has-been-deprecated-please-pass-in-a-Service-object-%EC%98%A4%EB%A5%98-%ED%95%B4%EA%B2%B0\n",
        "from selenium.webdriver.chrome.service import Service\n",
        "\n",
        "try:\n",
        "    chromedriver = Service(f'./{chrome_ver}/chromedriver')\n",
        "    driver = webdriver.Chrome(service=chromedriver)\n",
        "except:\n",
        "    chromedriver_autoinstaller.install(True)\n",
        "    chromedriver = Service(f'./{chrome_ver}/chromedriver')\n",
        "    driver = webdriver.Chrome(service=chromedriver)\n",
        "    \n",
        "driver.implicitly_wait(10)\n",
        "# ----------------------------------------------------------------------------------\n",
        "# 실행결과 : 실행하면 빈 브라우저가 열립니다.\n",
        "# ----------------------------------------------------------------------------------"
      ]
    }
  ],
  "metadata": {
    "kernelspec": {
      "display_name": "Python 3 (ipykernel)",
      "language": "python",
      "name": "python3"
    },
    "language_info": {
      "codemirror_mode": {
        "name": "ipython",
        "version": 3
      },
      "file_extension": ".py",
      "mimetype": "text/x-python",
      "name": "python",
      "nbconvert_exporter": "python",
      "pygments_lexer": "ipython3",
      "version": "3.9.7"
    },
    "colab": {
      "name": "220410_인스타그램_크롤링_크롬드라이버버전자동설치코드.ipynb",
      "provenance": [],
      "collapsed_sections": [],
      "include_colab_link": true
    }
  },
  "nbformat": 4,
  "nbformat_minor": 0
}